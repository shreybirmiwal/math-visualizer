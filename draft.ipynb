{
 "cells": [
  {
   "cell_type": "markdown",
   "metadata": {},
   "source": [
    "NO COMBINING THEM, JUST RAW OUTPUT"
   ]
  },
  {
   "cell_type": "code",
   "execution_count": 3,
   "metadata": {},
   "outputs": [],
   "source": [
    "import cv2\n",
    "import numpy as np\n",
    "from gtts import gTTS\n",
    "import os\n",
    "\n",
    "def create_frame(image_text1, image_text2, image_text3, carryDigit ,audio_text, frame_number):\n",
    "    frame = np.zeros((480, 640, 3), dtype=np.uint8)\n",
    "    cv2.putText(frame, image_text1, (200, 100), cv2.FONT_HERSHEY_SIMPLEX, 1, (255, 255, 255), 2)\n",
    "    cv2.putText(frame, image_text2, (200, 150), cv2.FONT_HERSHEY_SIMPLEX, 1, (255, 255, 255), 2)\n",
    "    cv2.putText(frame, image_text3, (200, 200), cv2.FONT_HERSHEY_SIMPLEX, 1, (255, 255, 255), 2)\n",
    "    cv2.putText(frame, carryDigit, (115, 50), cv2.FONT_HERSHEY_SIMPLEX, 1, (255, 255, 255), 2)\n",
    "\n",
    "    cv2.putText(frame, \"+\", (50, 150), cv2.FONT_HERSHEY_SIMPLEX, 1, (255, 255, 255), 2)\n",
    "\n",
    "    cv2.imwrite(f'frame{frame_number}.png', frame)\n",
    "    audio = gTTS(text=audio_text, lang='en')\n",
    "    audio.save(f'audio{frame_number}.mp3')\n",
    "\n",
    "num1 = int(input(\"Enter the first one-digit number: \"))\n",
    "num2 = int(input(\"Enter the second one-digit number: \"))\n",
    "result = num1 + num2\n",
    "\n",
    "\n",
    "create_frame(str(num1),str(num2),\"?\", \"\", f\"What is the sum of {num1} and {num2}?\", 0)\n",
    "\n",
    "\n",
    "if(result < 10):\n",
    "    create_frame(str(num1),str(num2),\"\", \"\", f\"Because the 2 numbers add to a number less than 10, we do not carry. The answer is the sum of {num1} and {num2}\", 1)\n",
    "    create_frame(str(num1),str(num2), str(result), \"\", f\"The sum of {num1} and {num2} is {result}.\", 2)\n",
    "\n",
    "else:\n",
    "    # need to carry\n",
    "    tens_place = result // 10\n",
    "    ones_place = result % 10\n",
    "    create_frame(str(num1),str(num2), str(ones_place), str(tens_place), f\"Because the 2 numbers in the 1s place add to a number greater than 10, we carry. Put the sum of the 1s place here, which is {ones_place} and carry the 10s place here, which is {tens_place}\", 1)\n",
    "    create_frame(str(num1),str(num2), str(result), \"\", f\"The answer is {result}\", 2)\n"
   ]
  },
  {
   "cell_type": "code",
   "execution_count": 4,
   "metadata": {},
   "outputs": [
    {
     "name": "stdout",
     "output_type": "stream",
     "text": [
      "Moviepy - Building video final.mp4.\n",
      "MoviePy - Writing audio in finalTEMP_MPY_wvf_snd.mp3\n"
     ]
    },
    {
     "name": "stderr",
     "output_type": "stream",
     "text": [
      "                                                                    \r"
     ]
    },
    {
     "name": "stdout",
     "output_type": "stream",
     "text": [
      "MoviePy - Done.\n",
      "Moviepy - Writing video final.mp4\n",
      "\n"
     ]
    },
    {
     "name": "stderr",
     "output_type": "stream",
     "text": [
      "                                                               \r"
     ]
    },
    {
     "name": "stdout",
     "output_type": "stream",
     "text": [
      "Moviepy - Done !\n",
      "Moviepy - video ready final.mp4\n"
     ]
    }
   ],
   "source": [
    "from moviepy.editor import *\n",
    "\n",
    "# Load audio clips\n",
    "audio0 = AudioFileClip(\"audio0.mp3\")\n",
    "audio1 = AudioFileClip(\"audio1.mp3\")\n",
    "audio2 = AudioFileClip(\"audio2.mp3\")\n",
    "\n",
    "video0 = ImageClip(\"frame0.png\")\n",
    "video1 = ImageClip(\"frame1.png\") \n",
    "video2 = ImageClip(\"frame2.png\") \n",
    "\n",
    "\n",
    "final = concatenate_videoclips([video0.set_duration(audio0.duration).set_audio(audio0), video1.set_duration(audio1.duration).set_audio(audio1), video2.set_duration(audio2.duration).set_audio(audio2)])\n",
    "final.write_videofile(\"final.mp4\", fps=24)"
   ]
  }
 ],
 "metadata": {
  "kernelspec": {
   "display_name": "Python 3",
   "language": "python",
   "name": "python3"
  },
  "language_info": {
   "codemirror_mode": {
    "name": "ipython",
    "version": 3
   },
   "file_extension": ".py",
   "mimetype": "text/x-python",
   "name": "python",
   "nbconvert_exporter": "python",
   "pygments_lexer": "ipython3",
   "version": "3.11.4"
  }
 },
 "nbformat": 4,
 "nbformat_minor": 2
}
