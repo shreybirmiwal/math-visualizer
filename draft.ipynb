{
 "cells": [
  {
   "cell_type": "code",
   "execution_count": 3,
   "metadata": {},
   "outputs": [],
   "source": [
    "import cv2\n",
    "import numpy as np\n",
    "from gtts import gTTS\n",
    "import os\n",
    "\n",
    "num1 = int(input(\"Enter the first one-digit number: \"))\n",
    "num2 = int(input(\"Enter the second one-digit number: \"))\n",
    "\n",
    "result = num1 + num2\n",
    "\n",
    "fourcc = cv2.VideoWriter_fourcc(*'XVID')\n",
    "out = cv2.VideoWriter('addition_walkthrough.avi', fourcc, 10.0, (640, 480))\n",
    "\n",
    "frame = np.zeros((480, 640, 3), dtype=np.uint8)\n",
    "cv2.putText(frame, f\"{num1} + {num2} = ?\", (100, 200), cv2.FONT_HERSHEY_SIMPLEX, 2, (255, 255, 255), 3)\n",
    "cv2.imwrite('frame.png', frame)\n",
    "\n",
    "tts = gTTS(text=f\"What does {num1} plus {num2} equal?\", lang='en')\n",
    "tts.save('audio.mp3')\n",
    "\n",
    "# Combine the audio with the video using ffmpeg (make sure you have ffmpeg installed)\n",
    "os.system('ffmpeg -i audio.mp3 -i addition_walkthrough.avi -c:v copy -c:a aac -strict experimental output.mp4')\n",
    "\n",
    "# Release the VideoWriter object\n",
    "out.release()\n"
   ]
  }
 ],
 "metadata": {
  "kernelspec": {
   "display_name": "Python 3",
   "language": "python",
   "name": "python3"
  },
  "language_info": {
   "codemirror_mode": {
    "name": "ipython",
    "version": 3
   },
   "file_extension": ".py",
   "mimetype": "text/x-python",
   "name": "python",
   "nbconvert_exporter": "python",
   "pygments_lexer": "ipython3",
   "version": "3.11.4"
  }
 },
 "nbformat": 4,
 "nbformat_minor": 2
}
