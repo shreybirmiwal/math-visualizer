{
 "cells": [
  {
   "cell_type": "code",
   "execution_count": 9,
   "metadata": {},
   "outputs": [
    {
     "data": {
      "text/plain": [
       "1"
      ]
     },
     "execution_count": 9,
     "metadata": {},
     "output_type": "execute_result"
    }
   ],
   "source": [
    "import cv2\n",
    "import numpy as np\n",
    "from gtts import gTTS\n",
    "import os\n",
    "\n",
    "num1 = int(input(\"Enter the first one-digit number: \"))\n",
    "num2 = int(input(\"Enter the second one-digit number: \"))\n",
    "\n",
    "result = num1 + num2\n",
    "\n",
    "fourcc = cv2.VideoWriter_fourcc(*'XVID')\n",
    "out = cv2.VideoWriter('addition_walkthrough.avi', fourcc, 10.0, (640, 480))\n",
    "\n",
    "frame = np.zeros((480, 640, 3), dtype=np.uint8)\n",
    "cv2.putText(frame, f\"{num1} + {num2} = ?\", (100, 200), cv2.FONT_HERSHEY_SIMPLEX, 2, (255, 255, 255), 3)\n",
    "cv2.imwrite('frame1.png', frame1)\n",
    "out.write(frame1)\n",
    "\n",
    "tts = gTTS(text=f\"What does {num1} plus {num2} equal?\", lang='en')\n",
    "tts.save('audio.mp3')\n",
    "\n",
    "# Release the VideoWriter object\n",
    "out.release()\n",
    "\n",
    "\n",
    "# Combine the audio with the video using ffmpeg (make sure you have ffmpeg installed)\n",
    "os.system('ffmpeg -i audio.mp3 -i addition_walkthrough.avi -c:v copy -c:a aac -strict experimental output.mp4')\n",
    "\n",
    "#ffmpeg -i audio.mp3 -i addition_walkthrough.avi -c:v copy -c:a aac -strict experimental output.mp4\n"
   ]
  },
  {
   "cell_type": "code",
   "execution_count": 1,
   "metadata": {},
   "outputs": [],
   "source": []
  },
  {
   "cell_type": "markdown",
   "metadata": {},
   "source": [
    "NO COMBINING THEM, JUST RAW OUTPUT"
   ]
  },
  {
   "cell_type": "code",
   "execution_count": 7,
   "metadata": {},
   "outputs": [
    {
     "ename": "error",
     "evalue": "OpenCV(4.8.1) :-1: error: (-5:Bad argument) in function 'putText'\n> Overload resolution failed:\n>  - img is not a numpy array, neither a scalar\n>  - Expected Ptr<cv::UMat> for argument 'img'\n",
     "output_type": "error",
     "traceback": [
      "\u001b[1;31m---------------------------------------------------------------------------\u001b[0m",
      "\u001b[1;31merror\u001b[0m                                     Traceback (most recent call last)",
      "\u001b[1;32mc:\\Users\\Shrey Birmiwal\\Desktop\\Shrey\\MATH_LIVE\\draft.ipynb Cell 4\u001b[0m line \u001b[0;36m2\n\u001b[0;32m     <a href='vscode-notebook-cell:/c%3A/Users/Shrey%20Birmiwal/Desktop/Shrey/MATH_LIVE/draft.ipynb#W2sZmlsZQ%3D%3D?line=17'>18</a>\u001b[0m num2 \u001b[39m=\u001b[39m \u001b[39mint\u001b[39m(\u001b[39minput\u001b[39m(\u001b[39m\"\u001b[39m\u001b[39mEnter the second one-digit number: \u001b[39m\u001b[39m\"\u001b[39m))\n\u001b[0;32m     <a href='vscode-notebook-cell:/c%3A/Users/Shrey%20Birmiwal/Desktop/Shrey/MATH_LIVE/draft.ipynb#W2sZmlsZQ%3D%3D?line=18'>19</a>\u001b[0m result \u001b[39m=\u001b[39m num1 \u001b[39m+\u001b[39m num2\n\u001b[1;32m---> <a href='vscode-notebook-cell:/c%3A/Users/Shrey%20Birmiwal/Desktop/Shrey/MATH_LIVE/draft.ipynb#W2sZmlsZQ%3D%3D?line=21'>22</a>\u001b[0m create_frame(\u001b[39mstr\u001b[39;49m(num1),\u001b[39mstr\u001b[39;49m(num2),\u001b[39m\"\u001b[39;49m\u001b[39m?\u001b[39;49m\u001b[39m\"\u001b[39;49m, \u001b[39mf\u001b[39;49m\u001b[39m\"\u001b[39;49m\u001b[39mWhat is the sum of \u001b[39;49m\u001b[39m{\u001b[39;49;00mnum1\u001b[39m}\u001b[39;49;00m\u001b[39m and \u001b[39;49m\u001b[39m{\u001b[39;49;00mnum2\u001b[39m}\u001b[39;49;00m\u001b[39m?\u001b[39;49m\u001b[39m\"\u001b[39;49m, \u001b[39m0\u001b[39;49m)\n\u001b[0;32m     <a href='vscode-notebook-cell:/c%3A/Users/Shrey%20Birmiwal/Desktop/Shrey/MATH_LIVE/draft.ipynb#W2sZmlsZQ%3D%3D?line=24'>25</a>\u001b[0m \u001b[39mif\u001b[39;00m(result \u001b[39m<\u001b[39m \u001b[39m10\u001b[39m):\n\u001b[0;32m     <a href='vscode-notebook-cell:/c%3A/Users/Shrey%20Birmiwal/Desktop/Shrey/MATH_LIVE/draft.ipynb#W2sZmlsZQ%3D%3D?line=25'>26</a>\u001b[0m     create_frame(\u001b[39mstr\u001b[39m(num1),\u001b[39mstr\u001b[39m(num2),\u001b[39m\"\u001b[39m\u001b[39m\"\u001b[39m, \u001b[39mf\u001b[39m\u001b[39m\"\u001b[39m\u001b[39mBecause the 2 numbers add to a number less than 10, we do not carry. The answer is the sum of \u001b[39m\u001b[39m{\u001b[39;00mnum1\u001b[39m}\u001b[39;00m\u001b[39m and \u001b[39m\u001b[39m{\u001b[39;00mnum2\u001b[39m}\u001b[39;00m\u001b[39m\"\u001b[39m, \u001b[39m1\u001b[39m)\n",
      "\u001b[1;32mc:\\Users\\Shrey Birmiwal\\Desktop\\Shrey\\MATH_LIVE\\draft.ipynb Cell 4\u001b[0m line \u001b[0;36m1\n\u001b[0;32m      <a href='vscode-notebook-cell:/c%3A/Users/Shrey%20Birmiwal/Desktop/Shrey/MATH_LIVE/draft.ipynb#W2sZmlsZQ%3D%3D?line=8'>9</a>\u001b[0m cv2\u001b[39m.\u001b[39mputText(frame, image_text2, (\u001b[39m100\u001b[39m, \u001b[39m150\u001b[39m), cv2\u001b[39m.\u001b[39mFONT_HERSHEY_SIMPLEX, \u001b[39m1\u001b[39m, (\u001b[39m255\u001b[39m, \u001b[39m255\u001b[39m, \u001b[39m255\u001b[39m), \u001b[39m2\u001b[39m)\n\u001b[0;32m     <a href='vscode-notebook-cell:/c%3A/Users/Shrey%20Birmiwal/Desktop/Shrey/MATH_LIVE/draft.ipynb#W2sZmlsZQ%3D%3D?line=9'>10</a>\u001b[0m cv2\u001b[39m.\u001b[39mputText(frame, image_text3, (\u001b[39m100\u001b[39m, \u001b[39m200\u001b[39m), cv2\u001b[39m.\u001b[39mFONT_HERSHEY_SIMPLEX, \u001b[39m1\u001b[39m, (\u001b[39m255\u001b[39m, \u001b[39m255\u001b[39m, \u001b[39m255\u001b[39m), \u001b[39m2\u001b[39m)\n\u001b[1;32m---> <a href='vscode-notebook-cell:/c%3A/Users/Shrey%20Birmiwal/Desktop/Shrey/MATH_LIVE/draft.ipynb#W2sZmlsZQ%3D%3D?line=10'>11</a>\u001b[0m cv2\u001b[39m.\u001b[39;49mputText(\u001b[39m\"\u001b[39;49m\u001b[39m+\u001b[39;49m\u001b[39m\"\u001b[39;49m, image_text3, (\u001b[39m50\u001b[39;49m, \u001b[39m150\u001b[39;49m), cv2\u001b[39m.\u001b[39;49mFONT_HERSHEY_SIMPLEX, \u001b[39m1\u001b[39;49m, (\u001b[39m255\u001b[39;49m, \u001b[39m255\u001b[39;49m, \u001b[39m255\u001b[39;49m), \u001b[39m2\u001b[39;49m)\n\u001b[0;32m     <a href='vscode-notebook-cell:/c%3A/Users/Shrey%20Birmiwal/Desktop/Shrey/MATH_LIVE/draft.ipynb#W2sZmlsZQ%3D%3D?line=12'>13</a>\u001b[0m cv2\u001b[39m.\u001b[39mimwrite(\u001b[39mf\u001b[39m\u001b[39m'\u001b[39m\u001b[39mframe\u001b[39m\u001b[39m{\u001b[39;00mframe_number\u001b[39m}\u001b[39;00m\u001b[39m.png\u001b[39m\u001b[39m'\u001b[39m, frame)\n\u001b[0;32m     <a href='vscode-notebook-cell:/c%3A/Users/Shrey%20Birmiwal/Desktop/Shrey/MATH_LIVE/draft.ipynb#W2sZmlsZQ%3D%3D?line=13'>14</a>\u001b[0m audio \u001b[39m=\u001b[39m gTTS(text\u001b[39m=\u001b[39maudio_text, lang\u001b[39m=\u001b[39m\u001b[39m'\u001b[39m\u001b[39men\u001b[39m\u001b[39m'\u001b[39m)\n",
      "\u001b[1;31merror\u001b[0m: OpenCV(4.8.1) :-1: error: (-5:Bad argument) in function 'putText'\n> Overload resolution failed:\n>  - img is not a numpy array, neither a scalar\n>  - Expected Ptr<cv::UMat> for argument 'img'\n"
     ]
    }
   ],
   "source": [
    "import cv2\n",
    "import numpy as np\n",
    "from gtts import gTTS\n",
    "import os\n",
    "\n",
    "def create_frame(image_text1, image_text2, image_text3, audio_text, frame_number):\n",
    "    frame = np.zeros((480, 640, 3), dtype=np.uint8)\n",
    "    cv2.putText(frame, image_text1, (100, 100), cv2.FONT_HERSHEY_SIMPLEX, 1, (255, 255, 255), 2)\n",
    "    cv2.putText(frame, image_text2, (100, 150), cv2.FONT_HERSHEY_SIMPLEX, 1, (255, 255, 255), 2)\n",
    "    cv2.putText(frame, image_text3, (100, 200), cv2.FONT_HERSHEY_SIMPLEX, 1, (255, 255, 255), 2)\n",
    "    cv2.putText(frame, \"+\", (50, 150), cv2.FONT_HERSHEY_SIMPLEX, 1, (255, 255, 255), 2)\n",
    "\n",
    "    cv2.imwrite(f'frame{frame_number}.png', frame)\n",
    "    audio = gTTS(text=audio_text, lang='en')\n",
    "    audio.save(f'audio{frame_number}.mp3')\n",
    "\n",
    "num1 = int(input(\"Enter the first one-digit number: \"))\n",
    "num2 = int(input(\"Enter the second one-digit number: \"))\n",
    "result = num1 + num2\n",
    "\n",
    "\n",
    "create_frame(str(num1),str(num2),\"?\", f\"What is the sum of {num1} and {num2}?\", 0)\n",
    "\n",
    "\n",
    "if(result < 10):\n",
    "    create_frame(str(num1),str(num2),\"\", f\"Because the 2 numbers add to a number less than 10, we do not carry. The answer is the sum of {num1} and {num2}\", 1)\n",
    "    create_frame(str(num1),str(num2), str(result), f\"The sum of {num1} and {num2} is {result}.\", 2)\n",
    "\n",
    "else:\n",
    "    # need to carry\n",
    "    tens_place = result // 10\n",
    "    ones_place = result % 10\n",
    "\n",
    "    create_frame(f\"{tens_place}\\n{num1}\\n{num2}\\n+   -----------\\n       {result}\", f\"Because {num1} and {num2} add to {result}, we put {ones_place} in the solution box and carry the digit {tens_place}. Then we repeat the addition.\", 3)\n"
   ]
  }
 ],
 "metadata": {
  "kernelspec": {
   "display_name": "Python 3",
   "language": "python",
   "name": "python3"
  },
  "language_info": {
   "codemirror_mode": {
    "name": "ipython",
    "version": 3
   },
   "file_extension": ".py",
   "mimetype": "text/x-python",
   "name": "python",
   "nbconvert_exporter": "python",
   "pygments_lexer": "ipython3",
   "version": "3.11.4"
  }
 },
 "nbformat": 4,
 "nbformat_minor": 2
}
