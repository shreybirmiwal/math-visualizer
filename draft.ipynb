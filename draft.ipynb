{
 "cells": [
  {
   "cell_type": "code",
   "execution_count": 3,
   "metadata": {},
   "outputs": [],
   "source": [
    "import cv2\n",
    "import numpy as np\n",
    "\n",
    "# Define the addition problem\n",
    "num1 = 123\n",
    "num2 = 456\n",
    "result = num1 + num2\n",
    "\n",
    "# Create a VideoWriter object\n",
    "fourcc = cv2.VideoWriter_fourcc(*'XVID')\n",
    "out = cv2.VideoWriter('addition_walkthrough.avi', fourcc, 10.0, (640, 480))\n",
    "\n",
    "# Loop through the addition steps\n",
    "for i in range(len(str(num1))):\n",
    "    step_num1 = num1 % 10\n",
    "    step_num2 = num2 % 10\n",
    "    step_result = result % 10\n",
    "\n",
    "    # Create a frame for this step\n",
    "    frame = np.zeros((480, 640, 3), dtype=np.uint8)\n",
    "    cv2.putText(frame, f\"{step_num1} + {step_num2}\", (100, 200), cv2.FONT_HERSHEY_SIMPLEX, 2, (255, 255, 255), 3)\n",
    "    cv2.putText(frame, f\"= {step_result}\", (100, 300), cv2.FONT_HERSHEY_SIMPLEX, 2, (255, 255, 255), 3)\n",
    "    \n",
    "    out.write(frame)\n",
    "\n",
    "    # Update numbers for the next step\n",
    "    num1 //= 10\n",
    "    num2 //= 10\n",
    "    result //= 10\n",
    "\n",
    "out.release()\n"
   ]
  }
 ],
 "metadata": {
  "kernelspec": {
   "display_name": "Python 3",
   "language": "python",
   "name": "python3"
  },
  "language_info": {
   "codemirror_mode": {
    "name": "ipython",
    "version": 3
   },
   "file_extension": ".py",
   "mimetype": "text/x-python",
   "name": "python",
   "nbconvert_exporter": "python",
   "pygments_lexer": "ipython3",
   "version": "3.11.4"
  }
 },
 "nbformat": 4,
 "nbformat_minor": 2
}
